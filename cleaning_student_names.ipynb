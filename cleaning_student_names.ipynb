{
 "cells": [
  {
   "cell_type": "code",
   "execution_count": null,
   "id": "5696d9c3",
   "metadata": {},
   "outputs": [],
   "source": [
    # he  
    "# import dependency \n",
    "import pandas as pd "
   ]
  },
  {
   "cell_type": "code",
   "execution_count": null,
   "id": "28d1507e",
   "metadata": {},
   "outputs": [],
   "source": [
    "# file to load \n",
    "student_data_to_load = \"Resources/students_complete.csv\"\n",
    "\n",
    "# read the file and print \n",
    "student_data_df = pd.read_csv(student_data_to_load)\n",
    "student_data_df"
   ]
  },
  {
   "cell_type": "code",
   "execution_count": null,
   "id": "685484cf",
   "metadata": {},
   "outputs": [],
   "source": [
    "# put the student's name into the list \n",
    "student_names = student_data_df['student_name'].tolist()\n",
    "student_names"
   ]
  },
  {
   "cell_type": "code",
   "execution_count": null,
   "id": "616bf442",
   "metadata": {},
   "outputs": [],
   "source": [
    "# python - split the student name and determine the length of the split name \n",
    "for name in student_names: \n",
    "    print(name.split(),len(name.split()))"
   ]
  },
  {
   "cell_type": "code",
   "execution_count": null,
   "id": "b17719c8",
   "metadata": {},
   "outputs": [],
   "source": [
    "# create a new list \n",
    "students_to_fix = []\n",
    "\n",
    "# if the name is greater than or equal to 3, add the name to the list \n",
    "for name in student_names: \n",
    "    if len(name.split()) >= 3: \n",
    "        students_to_fix.append(name)\n",
    "        \n",
    "students_to_fix"
   ]
  },
  {
   "cell_type": "code",
   "execution_count": null,
   "id": "6ada0481",
   "metadata": {},
   "outputs": [],
   "source": [
    "# create a new list \n",
    "prefix = []\n",
    "\n",
    "# if the prefix is less than or equal to 4, add the prefix to the list \n",
    "for name in students_to_fix: \n",
    "    if len(name.split()[0]) <= 4: \n",
    "        prefix.append(name.split()[0])\n",
    "\n",
    "# get the unique items in the prefix[]\n",
    "set(prefix)"
   ]
  },
  {
   "cell_type": "code",
   "execution_count": null,
   "id": "4c47c1c8",
   "metadata": {},
   "outputs": [],
   "source": [
    "# create a new list \n",
    "suffix = []\n",
    "\n",
    "# if the suffix is less than or equal to 3, add the suffix to the list \n",
    "for name in students_to_fix: \n",
    "    if len(name.split()[-1]) <= 3: \n",
    "        suffix.append(name.split()[-1])\n",
    "\n",
    "# get the unique items in the suffix[]\n",
    "set(suffix)"
   ]
  },
  {
   "cell_type": "code",
   "execution_count": null,
   "id": "dff668cb",
   "metadata": {},
   "outputs": [],
   "source": [
    "# add each prefix and suffix to remove to a list \n",
    "prefixes_suffixes = [\"Dr. \", \"Mr. \",\"Ms. \", \"Mrs. \", \n",
    "                     \"Miss \", \" MD\", \" DDS\", \" DVM\", \" PhD\"]\n"
   ]
  },
  {
   "cell_type": "code",
   "execution_count": null,
   "id": "7ffe14db",
   "metadata": {},
   "outputs": [],
   "source": [
    "# Iterate through 'prefixes_suffixes' list and replace them with an empty space \"\"\n",
    "for word in prefixes_suffixes: \n",
    "    student_data_df['student_name'] = student_data_df['student_name'].str.replace(word,\"\")\n",
    "\n",
    "# put the cleaned students' names in another list \n",
    "student_names =  student_data_df['student_name'].tolist()\n",
    "student_names"
   ]
  },
  {
   "cell_type": "code",
   "execution_count": null,
   "id": "41274efa",
   "metadata": {},
   "outputs": [],
   "source": [
    "#create a new list \n",
    "student_fixed = [] \n",
    "\n",
    "#if the name is greater than or equal to 3, add the name to the list \n",
    "for name in student_names: \n",
    "    if len(name.split()) >= 3: \n",
    "        student_fixed.append(name)\n",
    "student_fixed"
   ]
  },
  {
   "cell_type": "code",
   "execution_count": null,
   "id": "17e672a7",
   "metadata": {},
   "outputs": [],
   "source": []
  }
 ],
 "metadata": {
  "kernelspec": {
   "display_name": "PythonData",
   "language": "python",
   "name": "pythondata"
  },
  "language_info": {
   "codemirror_mode": {
    "name": "ipython",
    "version": 3
   },
   "file_extension": ".py",
   "mimetype": "text/x-python",
   "name": "python",
   "nbconvert_exporter": "python",
   "pygments_lexer": "ipython3",
   "version": "3.9.7"
  }
 },
 "nbformat": 4,
 "nbformat_minor": 5
}
