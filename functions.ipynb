{
 "cells": [
  {
   "cell_type": "code",
   "execution_count": 59,
   "id": "1ea338f5",
   "metadata": {},
   "outputs": [],
   "source": [
    "# define a function that calculates the percentage of students that passed math \n",
    "def math_pass_percent (math_pass_count, student_count): \n",
    "    return math_pass_count /float(student_count) * 100 "
   ]
  },
  {
   "cell_type": "code",
   "execution_count": 60,
   "id": "edcf86ce",
   "metadata": {},
   "outputs": [],
   "source": [
    "# define variables \n",
    "math_pass_count = 29370\n",
    "student_count = 39170"
   ]
  },
  {
   "cell_type": "code",
   "execution_count": 61,
   "id": "8edb021f",
   "metadata": {},
   "outputs": [
    {
     "data": {
      "text/plain": [
       "74.9808526933878"
      ]
     },
     "execution_count": 61,
     "metadata": {},
     "output_type": "execute_result"
    }
   ],
   "source": [
    "# call the function \n",
    "math_pass_percent (math_pass_count, student_count)"
   ]
  },
  {
   "cell_type": "code",
   "execution_count": 35,
   "id": "7d877a87",
   "metadata": {},
   "outputs": [],
   "source": [
    "# List of my grades \n",
    "my_grades = ['B','C','B','D']"
   ]
  },
  {
   "cell_type": "code",
   "execution_count": 53,
   "id": "4e270f60",
   "metadata": {},
   "outputs": [],
   "source": [
    "# add dependency \n",
    "import pandas as pd "
   ]
  },
  {
   "cell_type": "code",
   "execution_count": 37,
   "id": "f8a5bbe2",
   "metadata": {},
   "outputs": [
    {
     "data": {
      "text/plain": [
       "0    B\n",
       "1    C\n",
       "2    B\n",
       "3    D\n",
       "dtype: object"
      ]
     },
     "execution_count": 37,
     "metadata": {},
     "output_type": "execute_result"
    }
   ],
   "source": [
    "# convert my_grades to a series \n",
    "my_grades = pd.Series(my_grades)\n",
    "my_grades"
   ]
  },
  {
   "cell_type": "code",
   "execution_count": 38,
   "id": "595c8a58",
   "metadata": {},
   "outputs": [
    {
     "data": {
      "text/plain": [
       "0    A\n",
       "1    B\n",
       "2    A\n",
       "3    C\n",
       "dtype: object"
      ]
     },
     "execution_count": 38,
     "metadata": {},
     "output_type": "execute_result"
    }
   ],
   "source": [
    "# change the grades by one letter grade \n",
    "my_grades= my_grades.map({'B':'A','C':'B','D':'C'})\n",
    "my_grades"
   ]
  },
  {
   "cell_type": "code",
   "execution_count": 55,
   "id": "368128d7",
   "metadata": {},
   "outputs": [],
   "source": [
    "my_grade = [92.34,84.56,86.78,98.32]"
   ]
  },
  {
   "cell_type": "code",
   "execution_count": 62,
   "id": "c89fbe16",
   "metadata": {},
   "outputs": [
    {
     "name": "stdout",
     "output_type": "stream",
     "text": [
      "92\n",
      "85\n",
      "87\n",
      "98\n"
     ]
    }
   ],
   "source": [
    "# using the format() function \n",
    "for grade in my_grade: \n",
    "    print(\"{:.0f}\".format(grade))"
   ]
  },
  {
   "cell_type": "code",
   "execution_count": 63,
   "id": "25838481",
   "metadata": {},
   "outputs": [],
   "source": [
    "# convert the numerical grades to a series \n",
    "my_grade = pd.Series(my_grade)"
   ]
  },
  {
   "cell_type": "code",
   "execution_count": 58,
   "id": "ea333044",
   "metadata": {},
   "outputs": [
    {
     "data": {
      "text/plain": [
       "0    92\n",
       "1    85\n",
       "2    87\n",
       "3    98\n",
       "dtype: object"
      ]
     },
     "execution_count": 58,
     "metadata": {},
     "output_type": "execute_result"
    }
   ],
   "source": [
    "# format the grades to the nearest whole number percent \n",
    "my_grade.map(\"{:.0f}\".format)"
   ]
  },
  {
   "cell_type": "code",
   "execution_count": 64,
   "id": "d06d86c4",
   "metadata": {},
   "outputs": [
    {
     "name": "stdout",
     "output_type": "stream",
     "text": [
      "Fido\n",
      "brown\n"
     ]
    },
    {
     "data": {
      "text/plain": [
       "'woof! woof!'"
      ]
     },
     "execution_count": 64,
     "metadata": {},
     "output_type": "execute_result"
    }
   ],
   "source": [
    "class Dog: \n",
    "    def __init__(self, name, color, sound): \n",
    "        self.name = name \n",
    "        self.color = color \n",
    "        self.sound = sound \n",
    "    def bark(self): \n",
    "        return self.sound + ' ' + self.sound \n",
    "    \n",
    "    \n",
    "first_dog = Dog('Fido', 'brown', 'woof!')\n",
    "print(first_dog.name)\n",
    "print(first_dog.color)\n",
    "first_dog.bark()"
   ]
  },
  {
   "cell_type": "code",
   "execution_count": null,
   "id": "bd721bf6",
   "metadata": {},
   "outputs": [],
   "source": []
  }
 ],
 "metadata": {
  "kernelspec": {
   "display_name": "PythonData",
   "language": "python",
   "name": "pythondata"
  },
  "language_info": {
   "codemirror_mode": {
    "name": "ipython",
    "version": 3
   },
   "file_extension": ".py",
   "mimetype": "text/x-python",
   "name": "python",
   "nbconvert_exporter": "python",
   "pygments_lexer": "ipython3",
   "version": "3.9.7"
  }
 },
 "nbformat": 4,
 "nbformat_minor": 5
}
